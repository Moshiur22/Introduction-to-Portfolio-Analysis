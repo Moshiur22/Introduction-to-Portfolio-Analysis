{
  "nbformat": 4,
  "nbformat_minor": 0,
  "metadata": {
    "colab": {
      "provenance": [],
      "authorship_tag": "ABX9TyOR92f71hyyJP1Eu5EMhAm9"
    },
    "kernelspec": {
      "name": "python3",
      "display_name": "Python 3"
    },
    "language_info": {
      "name": "python"
    }
  },
  "cells": [
    {
      "cell_type": "markdown",
      "source": [
        "#Mordern Portfolio theory\n",
        "\n",
        "-- Markowitzn portfolio theory\n"
      ],
      "metadata": {
        "id": "DGrk_XZ-1On0"
      }
    },
    {
      "cell_type": "code",
      "source": [
        "!pip install prophet\n",
        "!pip install yfinance\n",
        "!pip install pip install PyPortfolioOpt"
      ],
      "metadata": {
        "id": "lNexSTqq2OZF"
      },
      "execution_count": null,
      "outputs": []
    },
    {
      "cell_type": "code",
      "source": [
        "#Import Libs\n",
        "import yfinance as yf\n",
        "import pandas as pd\n",
        "from prophet import Prophet\n",
        "from pypfopt.expected_returns import mean_historical_return\n",
        "from pypfopt.risk_models import CovarianceShrinkage\n",
        "from pypfopt import risk_models\n",
        "from pypfopt.efficient_frontier import EfficientFrontier\n",
        "from pypfopt.discrete_allocation import DiscreteAllocation, get_latest_prices"
      ],
      "metadata": {
        "id": "C4IigS_m1SLM"
      },
      "execution_count": 53,
      "outputs": []
    },
    {
      "cell_type": "code",
      "source": [
        "df = pd.read_csv('small_portfolio.csv',parse_dates=['date'],index_col='date')\n",
        "df.head(2)"
      ],
      "metadata": {
        "colab": {
          "base_uri": "https://localhost:8080/",
          "height": 143
        },
        "id": "Jez6sIsI2DXb",
        "outputId": "2d2cd968-dc6f-42fc-dba1-08d3050108e7"
      },
      "execution_count": 54,
      "outputs": [
        {
          "output_type": "execute_result",
          "data": {
            "text/plain": [
              "               GE    JPM    MSFT     PG\n",
              "date                                   \n",
              "2015-01-02  25.06  62.49  46.760  90.44\n",
              "2015-01-05  24.60  60.55  46.325  90.01"
            ],
            "text/html": [
              "\n",
              "  <div id=\"df-574040dc-de5d-41d2-af36-f03e03e07d26\">\n",
              "    <div class=\"colab-df-container\">\n",
              "      <div>\n",
              "<style scoped>\n",
              "    .dataframe tbody tr th:only-of-type {\n",
              "        vertical-align: middle;\n",
              "    }\n",
              "\n",
              "    .dataframe tbody tr th {\n",
              "        vertical-align: top;\n",
              "    }\n",
              "\n",
              "    .dataframe thead th {\n",
              "        text-align: right;\n",
              "    }\n",
              "</style>\n",
              "<table border=\"1\" class=\"dataframe\">\n",
              "  <thead>\n",
              "    <tr style=\"text-align: right;\">\n",
              "      <th></th>\n",
              "      <th>GE</th>\n",
              "      <th>JPM</th>\n",
              "      <th>MSFT</th>\n",
              "      <th>PG</th>\n",
              "    </tr>\n",
              "    <tr>\n",
              "      <th>date</th>\n",
              "      <th></th>\n",
              "      <th></th>\n",
              "      <th></th>\n",
              "      <th></th>\n",
              "    </tr>\n",
              "  </thead>\n",
              "  <tbody>\n",
              "    <tr>\n",
              "      <th>2015-01-02</th>\n",
              "      <td>25.06</td>\n",
              "      <td>62.49</td>\n",
              "      <td>46.760</td>\n",
              "      <td>90.44</td>\n",
              "    </tr>\n",
              "    <tr>\n",
              "      <th>2015-01-05</th>\n",
              "      <td>24.60</td>\n",
              "      <td>60.55</td>\n",
              "      <td>46.325</td>\n",
              "      <td>90.01</td>\n",
              "    </tr>\n",
              "  </tbody>\n",
              "</table>\n",
              "</div>\n",
              "      <button class=\"colab-df-convert\" onclick=\"convertToInteractive('df-574040dc-de5d-41d2-af36-f03e03e07d26')\"\n",
              "              title=\"Convert this dataframe to an interactive table.\"\n",
              "              style=\"display:none;\">\n",
              "        \n",
              "  <svg xmlns=\"http://www.w3.org/2000/svg\" height=\"24px\"viewBox=\"0 0 24 24\"\n",
              "       width=\"24px\">\n",
              "    <path d=\"M0 0h24v24H0V0z\" fill=\"none\"/>\n",
              "    <path d=\"M18.56 5.44l.94 2.06.94-2.06 2.06-.94-2.06-.94-.94-2.06-.94 2.06-2.06.94zm-11 1L8.5 8.5l.94-2.06 2.06-.94-2.06-.94L8.5 2.5l-.94 2.06-2.06.94zm10 10l.94 2.06.94-2.06 2.06-.94-2.06-.94-.94-2.06-.94 2.06-2.06.94z\"/><path d=\"M17.41 7.96l-1.37-1.37c-.4-.4-.92-.59-1.43-.59-.52 0-1.04.2-1.43.59L10.3 9.45l-7.72 7.72c-.78.78-.78 2.05 0 2.83L4 21.41c.39.39.9.59 1.41.59.51 0 1.02-.2 1.41-.59l7.78-7.78 2.81-2.81c.8-.78.8-2.07 0-2.86zM5.41 20L4 18.59l7.72-7.72 1.47 1.35L5.41 20z\"/>\n",
              "  </svg>\n",
              "      </button>\n",
              "      \n",
              "  <style>\n",
              "    .colab-df-container {\n",
              "      display:flex;\n",
              "      flex-wrap:wrap;\n",
              "      gap: 12px;\n",
              "    }\n",
              "\n",
              "    .colab-df-convert {\n",
              "      background-color: #E8F0FE;\n",
              "      border: none;\n",
              "      border-radius: 50%;\n",
              "      cursor: pointer;\n",
              "      display: none;\n",
              "      fill: #1967D2;\n",
              "      height: 32px;\n",
              "      padding: 0 0 0 0;\n",
              "      width: 32px;\n",
              "    }\n",
              "\n",
              "    .colab-df-convert:hover {\n",
              "      background-color: #E2EBFA;\n",
              "      box-shadow: 0px 1px 2px rgba(60, 64, 67, 0.3), 0px 1px 3px 1px rgba(60, 64, 67, 0.15);\n",
              "      fill: #174EA6;\n",
              "    }\n",
              "\n",
              "    [theme=dark] .colab-df-convert {\n",
              "      background-color: #3B4455;\n",
              "      fill: #D2E3FC;\n",
              "    }\n",
              "\n",
              "    [theme=dark] .colab-df-convert:hover {\n",
              "      background-color: #434B5C;\n",
              "      box-shadow: 0px 1px 3px 1px rgba(0, 0, 0, 0.15);\n",
              "      filter: drop-shadow(0px 1px 2px rgba(0, 0, 0, 0.3));\n",
              "      fill: #FFFFFF;\n",
              "    }\n",
              "  </style>\n",
              "\n",
              "      <script>\n",
              "        const buttonEl =\n",
              "          document.querySelector('#df-574040dc-de5d-41d2-af36-f03e03e07d26 button.colab-df-convert');\n",
              "        buttonEl.style.display =\n",
              "          google.colab.kernel.accessAllowed ? 'block' : 'none';\n",
              "\n",
              "        async function convertToInteractive(key) {\n",
              "          const element = document.querySelector('#df-574040dc-de5d-41d2-af36-f03e03e07d26');\n",
              "          const dataTable =\n",
              "            await google.colab.kernel.invokeFunction('convertToInteractive',\n",
              "                                                     [key], {});\n",
              "          if (!dataTable) return;\n",
              "\n",
              "          const docLinkHtml = 'Like what you see? Visit the ' +\n",
              "            '<a target=\"_blank\" href=https://colab.research.google.com/notebooks/data_table.ipynb>data table notebook</a>'\n",
              "            + ' to learn more about interactive tables.';\n",
              "          element.innerHTML = '';\n",
              "          dataTable['output_type'] = 'display_data';\n",
              "          await google.colab.output.renderOutput(dataTable, element);\n",
              "          const docLink = document.createElement('div');\n",
              "          docLink.innerHTML = docLinkHtml;\n",
              "          element.appendChild(docLink);\n",
              "        }\n",
              "      </script>\n",
              "    </div>\n",
              "  </div>\n",
              "  "
            ]
          },
          "metadata": {},
          "execution_count": 54
        }
      ]
    },
    {
      "cell_type": "code",
      "source": [
        "df.info()"
      ],
      "metadata": {
        "colab": {
          "base_uri": "https://localhost:8080/"
        },
        "id": "ndSGyZQvAFYY",
        "outputId": "26cd7434-c2f0-418f-b14e-5b526405f380"
      },
      "execution_count": 55,
      "outputs": [
        {
          "output_type": "stream",
          "name": "stdout",
          "text": [
            "<class 'pandas.core.frame.DataFrame'>\n",
            "DatetimeIndex: 813 entries, 2015-01-02 to 2018-03-27\n",
            "Data columns (total 4 columns):\n",
            " #   Column  Non-Null Count  Dtype  \n",
            "---  ------  --------------  -----  \n",
            " 0   GE      813 non-null    float64\n",
            " 1   JPM     813 non-null    float64\n",
            " 2   MSFT    813 non-null    float64\n",
            " 3   PG      813 non-null    float64\n",
            "dtypes: float64(4)\n",
            "memory usage: 31.8 KB\n"
          ]
        }
      ]
    },
    {
      "cell_type": "code",
      "source": [
        "from pypfopt import expected_returns\n",
        "#Calculat expected annualized returns and sample covariance\n",
        "mu = expected_returns.mean_historical_return(df)\n",
        "sigma = risk_models.sample_cov(df)"
      ],
      "metadata": {
        "id": "FbKme3hC5Rm_"
      },
      "execution_count": 56,
      "outputs": []
    },
    {
      "cell_type": "code",
      "source": [
        "#Obtain the EffecientFrontier\n",
        "ef = EfficientFrontier(mu,sigma)"
      ],
      "metadata": {
        "id": "S8i1sAxY5vIZ"
      },
      "execution_count": 85,
      "outputs": []
    },
    {
      "cell_type": "code",
      "source": [
        "print(mu,sigma)"
      ],
      "metadata": {
        "colab": {
          "base_uri": "https://localhost:8080/"
        },
        "id": "6_1esQmpFHJo",
        "outputId": "c3d0bf69-7abc-4d58-bd53-7d36b732f76b"
      },
      "execution_count": 58,
      "outputs": [
        {
          "output_type": "stream",
          "name": "stdout",
          "text": [
            "GE     -0.175812\n",
            "JPM     0.185643\n",
            "MSFT    0.223083\n",
            "PG     -0.045684\n",
            "dtype: float64             GE       JPM      MSFT        PG\n",
            "GE    0.046355  0.023011  0.016415  0.010182\n",
            "JPM   0.023011  0.047033  0.024328  0.010899\n",
            "MSFT  0.016415  0.024328  0.054486  0.014257\n",
            "PG    0.010182  0.010899  0.014257  0.020810\n"
          ]
        }
      ]
    },
    {
      "cell_type": "code",
      "source": [
        "#Select a chosen Optimal portfolio\n",
        "ef.max_sharpe()"
      ],
      "metadata": {
        "colab": {
          "base_uri": "https://localhost:8080/"
        },
        "id": "m881K5MnAr8d",
        "outputId": "454ac16a-9834-4a74-f9be-2fa76075ce71"
      },
      "execution_count": 76,
      "outputs": [
        {
          "output_type": "execute_result",
          "data": {
            "text/plain": [
              "OrderedDict([('GE', 0.0),\n",
              "             ('JPM', 0.4251955192429594),\n",
              "             ('MSFT', 0.5748044807570406),\n",
              "             ('PG', 0.0)])"
            ]
          },
          "metadata": {},
          "execution_count": 76
        }
      ]
    },
    {
      "cell_type": "code",
      "source": [
        "#select an optimal return for a target risk\n",
        "ef.efficient_risk(2.5)"
      ],
      "metadata": {
        "colab": {
          "base_uri": "https://localhost:8080/"
        },
        "id": "mLotXUaNBOsq",
        "outputId": "4b650387-6f6b-4ed6-d2e6-ab9671f2380b"
      },
      "execution_count": 66,
      "outputs": [
        {
          "output_type": "execute_result",
          "data": {
            "text/plain": [
              "OrderedDict([('GE', 4.081159e-10),\n",
              "             ('JPM', 4.202195e-09),\n",
              "             ('MSFT', 0.9999999948273178),\n",
              "             ('PG', 5.623253e-10)])"
            ]
          },
          "metadata": {},
          "execution_count": 66
        }
      ]
    },
    {
      "cell_type": "code",
      "source": [
        "#Select an minimal risk for a target return\n",
        "ef.efficient_return(0.2)"
      ],
      "metadata": {
        "colab": {
          "base_uri": "https://localhost:8080/"
        },
        "id": "weHrCkRNBTzg",
        "outputId": "c9696e29-0be5-4af3-97fe-1aef65c64da0"
      },
      "execution_count": 69,
      "outputs": [
        {
          "output_type": "execute_result",
          "data": {
            "text/plain": [
              "OrderedDict([('GE', 0.0),\n",
              "             ('JPM', 0.4926529085352376),\n",
              "             ('MSFT', 0.4900890447252643),\n",
              "             ('PG', 0.017258046739498)])"
            ]
          },
          "metadata": {},
          "execution_count": 69
        }
      ]
    },
    {
      "cell_type": "code",
      "source": [
        "#Calculate the Portfoli risk and performance\n",
        "\n",
        "#obtain the performance numbers\n",
        "\n",
        "ef.portfolio_performance(verbose=True,risk_free_rate=0.01)"
      ],
      "metadata": {
        "colab": {
          "base_uri": "https://localhost:8080/"
        },
        "id": "_lep6sDLBw1C",
        "outputId": "c23cd4d0-6ef5-466e-9355-c492b08791d6"
      },
      "execution_count": 70,
      "outputs": [
        {
          "output_type": "stream",
          "name": "stdout",
          "text": [
            "Expected annual return: 20.0%\n",
            "Annual volatility: 19.2%\n",
            "Sharpe Ratio: 0.99\n"
          ]
        },
        {
          "output_type": "execute_result",
          "data": {
            "text/plain": [
              "(0.19999999999999998, 0.19152666984849026, 0.9920289438035028)"
            ]
          },
          "metadata": {},
          "execution_count": 70
        }
      ]
    },
    {
      "cell_type": "markdown",
      "source": [
        "#Maximum Sharpe vs minimum Volatility"
      ],
      "metadata": {
        "id": "l5QIQQYXN-2L"
      }
    },
    {
      "cell_type": "code",
      "source": [
        "#Maximun Sharpe Portfolio: the highest Sharpe Ratio no the EF"
      ],
      "metadata": {
        "id": "M1RLTG-SOSRI"
      },
      "execution_count": 72,
      "outputs": []
    },
    {
      "cell_type": "code",
      "source": [
        "#Calculate the efficient Frontier with mu and sigma\n",
        "raw_weights =ef.max_sharpe()"
      ],
      "metadata": {
        "id": "J7moXrx9O9p9"
      },
      "execution_count": 79,
      "outputs": []
    },
    {
      "cell_type": "code",
      "source": [
        "#Get interpolated Weights\n",
        "cleaned_weights= ef.clean_weights()\n",
        "cleaned_weights"
      ],
      "metadata": {
        "colab": {
          "base_uri": "https://localhost:8080/"
        },
        "id": "0d40y3ytPJpt",
        "outputId": "d29f6ce3-6c9e-44fa-a8b8-18da8dbffe2a"
      },
      "execution_count": 81,
      "outputs": [
        {
          "output_type": "execute_result",
          "data": {
            "text/plain": [
              "OrderedDict([('GE', 0.0), ('JPM', 0.4252), ('MSFT', 0.5748), ('PG', 0.0)])"
            ]
          },
          "metadata": {},
          "execution_count": 81
        }
      ]
    },
    {
      "cell_type": "code",
      "source": [
        "#get performance numbers\n",
        "ef.portfolio_performance(verbose=True)"
      ],
      "metadata": {
        "colab": {
          "base_uri": "https://localhost:8080/"
        },
        "id": "E5SNthiSPwp8",
        "outputId": "63fb9107-fd91-4e89-c69f-8f9b26c335c7"
      },
      "execution_count": 82,
      "outputs": [
        {
          "output_type": "stream",
          "name": "stdout",
          "text": [
            "Expected annual return: 20.7%\n",
            "Annual volatility: 19.6%\n",
            "Sharpe Ratio: 0.96\n"
          ]
        },
        {
          "output_type": "execute_result",
          "data": {
            "text/plain": [
              "(0.20716402573897588, 0.1959516973774276, 0.9551538886569299)"
            ]
          },
          "metadata": {},
          "execution_count": 82
        }
      ]
    },
    {
      "cell_type": "code",
      "source": [
        "#Minumum Volatility Portfolio: the lowest level of risk on the effecient frontier"
      ],
      "metadata": {
        "id": "tnztRaSdP73F"
      },
      "execution_count": 83,
      "outputs": []
    },
    {
      "cell_type": "code",
      "source": [
        "raw_weights_min= ef.min_volatility()"
      ],
      "metadata": {
        "id": "a3nj8FMdQ_J4"
      },
      "execution_count": 86,
      "outputs": []
    },
    {
      "cell_type": "code",
      "source": [
        "cleaned_weights = ef.clean_weights()\n",
        "cleaned_weights"
      ],
      "metadata": {
        "colab": {
          "base_uri": "https://localhost:8080/"
        },
        "id": "Nm-iM1NcRHnL",
        "outputId": "08a81efa-365d-426f-9a68-1db70414e0f7"
      },
      "execution_count": 88,
      "outputs": [
        {
          "output_type": "execute_result",
          "data": {
            "text/plain": [
              "OrderedDict([('GE', 0.15732),\n",
              "             ('JPM', 0.11714),\n",
              "             ('MSFT', 0.04704),\n",
              "             ('PG', 0.6785)])"
            ]
          },
          "metadata": {},
          "execution_count": 88
        }
      ]
    },
    {
      "cell_type": "code",
      "source": [
        "#minimum Volatility Portfolio\n",
        "min_vol_port = ef.portfolio_performance(verbose=True)"
      ],
      "metadata": {
        "colab": {
          "base_uri": "https://localhost:8080/"
        },
        "id": "jcxSnCT6RSoV",
        "outputId": "0ac45c25-9b5c-4d0a-bd03-20ea8c90b321"
      },
      "execution_count": 94,
      "outputs": [
        {
          "output_type": "stream",
          "name": "stdout",
          "text": [
            "Expected annual return: -2.6%\n",
            "Annual volatility: 13.3%\n",
            "Sharpe Ratio: -0.35\n"
          ]
        }
      ]
    },
    {
      "cell_type": "markdown",
      "source": [
        "#Alternative Portfolio Optimization"
      ],
      "metadata": {
        "id": "mJNYWGyGfItB"
      }
    },
    {
      "cell_type": "code",
      "source": [
        "#Exponantially weighted Returns\n",
        "\n",
        "#Exponantially weighted moving average\n",
        "\n",
        "mu_ema =expected_returns.ema_historical_return(df,span=252,frequency=252)\n",
        "print(mu_ema)"
      ],
      "metadata": {
        "colab": {
          "base_uri": "https://localhost:8080/"
        },
        "id": "n00MMXB2fHpa",
        "outputId": "23eebb97-7f64-4220-f934-b2fdd140f152"
      },
      "execution_count": 97,
      "outputs": [
        {
          "output_type": "stream",
          "name": "stdout",
          "text": [
            "GE     -0.547256\n",
            "JPM     0.229540\n",
            "MSFT    0.321329\n",
            "PG     -0.186417\n",
            "Name: 2018-03-27 00:00:00, dtype: float64\n"
          ]
        }
      ]
    },
    {
      "cell_type": "code",
      "source": [
        "#Exponentially weighted covariance\n",
        "sigma_ew= risk_models.exp_cov(df, span=180, frequency= 252)\n",
        "sigma_ew"
      ],
      "metadata": {
        "colab": {
          "base_uri": "https://localhost:8080/",
          "height": 175
        },
        "id": "AZAKxFXvf_xz",
        "outputId": "22ce5ec6-65c9-485a-8482-f7bff81c3e0b"
      },
      "execution_count": 99,
      "outputs": [
        {
          "output_type": "execute_result",
          "data": {
            "text/plain": [
              "            GE       JPM      MSFT        PG\n",
              "GE    0.089302  0.026028  0.013672  0.009110\n",
              "JPM   0.026028  0.045717  0.034885  0.009699\n",
              "MSFT  0.013672  0.034885  0.067528  0.009651\n",
              "PG    0.009110  0.009699  0.009651  0.022898"
            ],
            "text/html": [
              "\n",
              "  <div id=\"df-73c3dab6-a8c1-44b4-a8ad-279ff320312f\">\n",
              "    <div class=\"colab-df-container\">\n",
              "      <div>\n",
              "<style scoped>\n",
              "    .dataframe tbody tr th:only-of-type {\n",
              "        vertical-align: middle;\n",
              "    }\n",
              "\n",
              "    .dataframe tbody tr th {\n",
              "        vertical-align: top;\n",
              "    }\n",
              "\n",
              "    .dataframe thead th {\n",
              "        text-align: right;\n",
              "    }\n",
              "</style>\n",
              "<table border=\"1\" class=\"dataframe\">\n",
              "  <thead>\n",
              "    <tr style=\"text-align: right;\">\n",
              "      <th></th>\n",
              "      <th>GE</th>\n",
              "      <th>JPM</th>\n",
              "      <th>MSFT</th>\n",
              "      <th>PG</th>\n",
              "    </tr>\n",
              "  </thead>\n",
              "  <tbody>\n",
              "    <tr>\n",
              "      <th>GE</th>\n",
              "      <td>0.089302</td>\n",
              "      <td>0.026028</td>\n",
              "      <td>0.013672</td>\n",
              "      <td>0.009110</td>\n",
              "    </tr>\n",
              "    <tr>\n",
              "      <th>JPM</th>\n",
              "      <td>0.026028</td>\n",
              "      <td>0.045717</td>\n",
              "      <td>0.034885</td>\n",
              "      <td>0.009699</td>\n",
              "    </tr>\n",
              "    <tr>\n",
              "      <th>MSFT</th>\n",
              "      <td>0.013672</td>\n",
              "      <td>0.034885</td>\n",
              "      <td>0.067528</td>\n",
              "      <td>0.009651</td>\n",
              "    </tr>\n",
              "    <tr>\n",
              "      <th>PG</th>\n",
              "      <td>0.009110</td>\n",
              "      <td>0.009699</td>\n",
              "      <td>0.009651</td>\n",
              "      <td>0.022898</td>\n",
              "    </tr>\n",
              "  </tbody>\n",
              "</table>\n",
              "</div>\n",
              "      <button class=\"colab-df-convert\" onclick=\"convertToInteractive('df-73c3dab6-a8c1-44b4-a8ad-279ff320312f')\"\n",
              "              title=\"Convert this dataframe to an interactive table.\"\n",
              "              style=\"display:none;\">\n",
              "        \n",
              "  <svg xmlns=\"http://www.w3.org/2000/svg\" height=\"24px\"viewBox=\"0 0 24 24\"\n",
              "       width=\"24px\">\n",
              "    <path d=\"M0 0h24v24H0V0z\" fill=\"none\"/>\n",
              "    <path d=\"M18.56 5.44l.94 2.06.94-2.06 2.06-.94-2.06-.94-.94-2.06-.94 2.06-2.06.94zm-11 1L8.5 8.5l.94-2.06 2.06-.94-2.06-.94L8.5 2.5l-.94 2.06-2.06.94zm10 10l.94 2.06.94-2.06 2.06-.94-2.06-.94-.94-2.06-.94 2.06-2.06.94z\"/><path d=\"M17.41 7.96l-1.37-1.37c-.4-.4-.92-.59-1.43-.59-.52 0-1.04.2-1.43.59L10.3 9.45l-7.72 7.72c-.78.78-.78 2.05 0 2.83L4 21.41c.39.39.9.59 1.41.59.51 0 1.02-.2 1.41-.59l7.78-7.78 2.81-2.81c.8-.78.8-2.07 0-2.86zM5.41 20L4 18.59l7.72-7.72 1.47 1.35L5.41 20z\"/>\n",
              "  </svg>\n",
              "      </button>\n",
              "      \n",
              "  <style>\n",
              "    .colab-df-container {\n",
              "      display:flex;\n",
              "      flex-wrap:wrap;\n",
              "      gap: 12px;\n",
              "    }\n",
              "\n",
              "    .colab-df-convert {\n",
              "      background-color: #E8F0FE;\n",
              "      border: none;\n",
              "      border-radius: 50%;\n",
              "      cursor: pointer;\n",
              "      display: none;\n",
              "      fill: #1967D2;\n",
              "      height: 32px;\n",
              "      padding: 0 0 0 0;\n",
              "      width: 32px;\n",
              "    }\n",
              "\n",
              "    .colab-df-convert:hover {\n",
              "      background-color: #E2EBFA;\n",
              "      box-shadow: 0px 1px 2px rgba(60, 64, 67, 0.3), 0px 1px 3px 1px rgba(60, 64, 67, 0.15);\n",
              "      fill: #174EA6;\n",
              "    }\n",
              "\n",
              "    [theme=dark] .colab-df-convert {\n",
              "      background-color: #3B4455;\n",
              "      fill: #D2E3FC;\n",
              "    }\n",
              "\n",
              "    [theme=dark] .colab-df-convert:hover {\n",
              "      background-color: #434B5C;\n",
              "      box-shadow: 0px 1px 3px 1px rgba(0, 0, 0, 0.15);\n",
              "      filter: drop-shadow(0px 1px 2px rgba(0, 0, 0, 0.3));\n",
              "      fill: #FFFFFF;\n",
              "    }\n",
              "  </style>\n",
              "\n",
              "      <script>\n",
              "        const buttonEl =\n",
              "          document.querySelector('#df-73c3dab6-a8c1-44b4-a8ad-279ff320312f button.colab-df-convert');\n",
              "        buttonEl.style.display =\n",
              "          google.colab.kernel.accessAllowed ? 'block' : 'none';\n",
              "\n",
              "        async function convertToInteractive(key) {\n",
              "          const element = document.querySelector('#df-73c3dab6-a8c1-44b4-a8ad-279ff320312f');\n",
              "          const dataTable =\n",
              "            await google.colab.kernel.invokeFunction('convertToInteractive',\n",
              "                                                     [key], {});\n",
              "          if (!dataTable) return;\n",
              "\n",
              "          const docLinkHtml = 'Like what you see? Visit the ' +\n",
              "            '<a target=\"_blank\" href=https://colab.research.google.com/notebooks/data_table.ipynb>data table notebook</a>'\n",
              "            + ' to learn more about interactive tables.';\n",
              "          element.innerHTML = '';\n",
              "          dataTable['output_type'] = 'display_data';\n",
              "          await google.colab.output.renderOutput(dataTable, element);\n",
              "          const docLink = document.createElement('div');\n",
              "          docLink.innerHTML = docLinkHtml;\n",
              "          element.appendChild(docLink);\n",
              "        }\n",
              "      </script>\n",
              "    </div>\n",
              "  </div>\n",
              "  "
            ]
          },
          "metadata": {},
          "execution_count": 99
        }
      ]
    },
    {
      "cell_type": "code",
      "source": [
        "#Semicovariance in pyPortfolioOpt\n",
        "Sigma_semi= risk_models.semicovariance(df,banchmark=0,frequency=252)\n",
        "print(Sigma_semi)"
      ],
      "metadata": {
        "colab": {
          "base_uri": "https://localhost:8080/"
        },
        "id": "E5EnLPaCgQut",
        "outputId": "b6c6e391-9683-4c2d-85ac-da378168757e"
      },
      "execution_count": 100,
      "outputs": [
        {
          "output_type": "stream",
          "name": "stdout",
          "text": [
            "            GE       JPM      MSFT        PG\n",
            "GE    0.025319  0.014155  0.012131  0.008346\n",
            "JPM   0.014155  0.021860  0.014094  0.008217\n",
            "MSFT  0.012131  0.014094  0.023634  0.009140\n",
            "PG    0.008346  0.008217  0.009140  0.011286\n"
          ]
        }
      ]
    },
    {
      "cell_type": "code",
      "source": [],
      "metadata": {
        "id": "R0CgkkN5gsfO"
      },
      "execution_count": null,
      "outputs": []
    }
  ]
}