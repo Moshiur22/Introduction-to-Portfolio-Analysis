{
  "nbformat": 4,
  "nbformat_minor": 0,
  "metadata": {
    "colab": {
      "provenance": [],
      "authorship_tag": "ABX9TyMFqqgIeYt4Y7+L7sTSD65e"
    },
    "kernelspec": {
      "name": "python3",
      "display_name": "Python 3"
    },
    "language_info": {
      "name": "python"
    }
  },
  "cells": [
    {
      "cell_type": "markdown",
      "source": [
        "#Annualizing Return"
      ],
      "metadata": {
        "id": "yJH0q7Xp6_zi"
      }
    },
    {
      "cell_type": "code",
      "source": [
        "import pandas as pd\n",
        "import numpy as np\n",
        "import matplotlib.pyplot as plt"
      ],
      "metadata": {
        "id": "wmKv8opx7Dqg"
      },
      "execution_count": null,
      "outputs": []
    },
    {
      "cell_type": "code",
      "source": [
        "pip install yfinance"
      ],
      "metadata": {
        "id": "fnZ19Tt77-K-"
      },
      "execution_count": null,
      "outputs": []
    },
    {
      "cell_type": "code",
      "source": [
        "import yfinance as yf"
      ],
      "metadata": {
        "id": "B5HiBPdD8DKq"
      },
      "execution_count": null,
      "outputs": []
    },
    {
      "cell_type": "code",
      "source": [
        "yf.pdr_override()"
      ],
      "metadata": {
        "id": "1tWUiFaa8NCL"
      },
      "execution_count": null,
      "outputs": []
    },
    {
      "cell_type": "code",
      "source": [
        "from pandas_datareader import data as wb"
      ],
      "metadata": {
        "id": "vGtYPlcA8P2G"
      },
      "execution_count": null,
      "outputs": []
    },
    {
      "cell_type": "code",
      "source": [
        "tickers= 'AAPL'\n",
        "apple_price = wb.DataReader(tickers,start=2015-1-1)['Adj Close']"
      ],
      "metadata": {
        "colab": {
          "base_uri": "https://localhost:8080/"
        },
        "id": "Ob8m6TEBxAYN",
        "outputId": "bf72b841-2256-4a8e-80e4-3c9cd24fc979"
      },
      "execution_count": null,
      "outputs": [
        {
          "output_type": "stream",
          "name": "stdout",
          "text": [
            "\r[*********************100%***********************]  1 of 1 completed\n"
          ]
        }
      ]
    },
    {
      "cell_type": "code",
      "source": [
        "apple_price.head()"
      ],
      "metadata": {
        "colab": {
          "base_uri": "https://localhost:8080/"
        },
        "id": "5dOposPKxYRE",
        "outputId": "1a7788e8-47ea-47c7-da08-cd1be19ce148"
      },
      "execution_count": null,
      "outputs": [
        {
          "output_type": "execute_result",
          "data": {
            "text/plain": [
              "Date\n",
              "1980-12-12    0.099722\n",
              "1980-12-15    0.094519\n",
              "1980-12-16    0.087582\n",
              "1980-12-17    0.089749\n",
              "1980-12-18    0.092351\n",
              "Name: Adj Close, dtype: float64"
            ]
          },
          "metadata": {},
          "execution_count": 7
        }
      ]
    },
    {
      "cell_type": "code",
      "source": [
        "apple_price.tail()"
      ],
      "metadata": {
        "colab": {
          "base_uri": "https://localhost:8080/"
        },
        "id": "RY0h68jbxgxf",
        "outputId": "7f3f439b-77e5-4c32-d636-df690f10a068"
      },
      "execution_count": null,
      "outputs": [
        {
          "output_type": "execute_result",
          "data": {
            "text/plain": [
              "Date\n",
              "2023-02-16    153.710007\n",
              "2023-02-17    152.550003\n",
              "2023-02-21    148.479996\n",
              "2023-02-22    148.910004\n",
              "2023-02-23    147.759995\n",
              "Name: Adj Close, dtype: float64"
            ]
          },
          "metadata": {},
          "execution_count": 8
        }
      ]
    },
    {
      "cell_type": "code",
      "source": [
        "#Calculate the Total Return\n",
        "total_return = (apple_price[-1]-apple_price[0]/apple_price[0])\n",
        "print(total_return)"
      ],
      "metadata": {
        "colab": {
          "base_uri": "https://localhost:8080/"
        },
        "id": "0H9gw2mHxjjt",
        "outputId": "8ceac5be-0f19-4061-b1ae-c4e32b9218d9"
      },
      "execution_count": null,
      "outputs": [
        {
          "output_type": "stream",
          "name": "stdout",
          "text": [
            "146.75999450683594\n"
          ]
        }
      ]
    },
    {
      "cell_type": "code",
      "source": [
        "#Calculate the annualized returns over months\n",
        "annualized_return = ((1+total_return)**(12/38))-1\n",
        "print(annualized_return)"
      ],
      "metadata": {
        "colab": {
          "base_uri": "https://localhost:8080/"
        },
        "id": "uCUs6Y0Bx7Bh",
        "outputId": "94abf919-628e-4908-cd15-02e91492cbbe"
      },
      "execution_count": null,
      "outputs": [
        {
          "output_type": "stream",
          "name": "stdout",
          "text": [
            "3.8430975969377936\n"
          ]
        }
      ]
    },
    {
      "cell_type": "code",
      "source": [
        "#Select three year period\n",
        "apple_price = apple_price.loc['2020-01-01':'2022-12-31']\n",
        "apple_price.tail(3)"
      ],
      "metadata": {
        "colab": {
          "base_uri": "https://localhost:8080/"
        },
        "id": "6Z8L9JwryVHO",
        "outputId": "3285ccfb-9d48-4904-b528-fc639b2a3310"
      },
      "execution_count": null,
      "outputs": [
        {
          "output_type": "execute_result",
          "data": {
            "text/plain": [
              "Date\n",
              "2022-12-28    125.847855\n",
              "2022-12-29    129.412415\n",
              "2022-12-30    129.731918\n",
              "Name: Adj Close, dtype: float64"
            ]
          },
          "metadata": {},
          "execution_count": 11
        }
      ]
    },
    {
      "cell_type": "code",
      "source": [
        "#Calculat Annualized returns over 3 years\n",
        "annualized_return = ((1+ total_return)**(1/3))-1\n",
        "print(annualized_return)"
      ],
      "metadata": {
        "colab": {
          "base_uri": "https://localhost:8080/"
        },
        "id": "8ut2KaaZy37H",
        "outputId": "5757ae10-355c-462b-a6fc-531b030a8e14"
      },
      "execution_count": null,
      "outputs": [
        {
          "output_type": "stream",
          "name": "stdout",
          "text": [
            "4.286711631894479\n"
          ]
        }
      ]
    },
    {
      "cell_type": "markdown",
      "source": [
        "#Risk Adjusted Return"
      ],
      "metadata": {
        "id": "llrTWsZd3xtG"
      }
    },
    {
      "cell_type": "code",
      "source": [
        "apple_return = apple_price.pct_change()"
      ],
      "metadata": {
        "id": "gF9GaZfuAYOA"
      },
      "execution_count": null,
      "outputs": []
    },
    {
      "cell_type": "code",
      "source": [
        "#Annualized standard daviation\n",
        "annualized_vol= apple_return.std()*np.sqrt(250)\n",
        "print(annualized_vol)"
      ],
      "metadata": {
        "colab": {
          "base_uri": "https://localhost:8080/"
        },
        "id": "KPgFuipZzID7",
        "outputId": "2e410b47-d0df-4454-bc64-a8dec271b239"
      },
      "execution_count": null,
      "outputs": [
        {
          "output_type": "stream",
          "name": "stdout",
          "text": [
            "0.3678649354211323\n"
          ]
        }
      ]
    },
    {
      "cell_type": "code",
      "source": [
        "#Define the risk free rate\n",
        "risk_free =0.0395"
      ],
      "metadata": {
        "id": "kLJbJLQ45CMA"
      },
      "execution_count": null,
      "outputs": []
    },
    {
      "cell_type": "code",
      "source": [
        "#Calculating Sharpe Ratio\n",
        "Sharpe_ratio =(annualized_return- risk_free)/annualized_vol\n",
        "print(Sharpe_ratio)"
      ],
      "metadata": {
        "colab": {
          "base_uri": "https://localhost:8080/"
        },
        "id": "6lfrO2Ma9F-E",
        "outputId": "5979d885-5954-44ef-b566-0e5be0049f38"
      },
      "execution_count": null,
      "outputs": [
        {
          "output_type": "stream",
          "name": "stdout",
          "text": [
            "11.545573450843488\n"
          ]
        }
      ]
    },
    {
      "cell_type": "markdown",
      "source": [
        "#Non- normal Distribution of Return"
      ],
      "metadata": {
        "id": "7jFuIOYr-ijR"
      }
    },
    {
      "cell_type": "code",
      "source": [
        "#Calculating Skewness and kurtosis\n",
        "apple_returns = apple_price.pct_change()\n",
        "apple_return.head(3)"
      ],
      "metadata": {
        "id": "LfmTHabS9d3h",
        "colab": {
          "base_uri": "https://localhost:8080/"
        },
        "outputId": "498a1796-3c28-4363-a11c-f7d4246678e4"
      },
      "execution_count": null,
      "outputs": [
        {
          "output_type": "execute_result",
          "data": {
            "text/plain": [
              "Date\n",
              "2020-01-02         NaN\n",
              "2020-01-03   -0.009722\n",
              "2020-01-06    0.007968\n",
              "Name: Adj Close, dtype: float64"
            ]
          },
          "metadata": {},
          "execution_count": 17
        }
      ]
    },
    {
      "cell_type": "code",
      "source": [
        "apple_returns.tail(3)"
      ],
      "metadata": {
        "colab": {
          "base_uri": "https://localhost:8080/"
        },
        "id": "_tVLkFmKHNF1",
        "outputId": "94cf5c10-4fa8-493e-ef53-c918f6534658"
      },
      "execution_count": null,
      "outputs": [
        {
          "output_type": "execute_result",
          "data": {
            "text/plain": [
              "Date\n",
              "2022-12-28   -0.030685\n",
              "2022-12-29    0.028324\n",
              "2022-12-30    0.002469\n",
              "Name: Adj Close, dtype: float64"
            ]
          },
          "metadata": {},
          "execution_count": 18
        }
      ]
    },
    {
      "cell_type": "code",
      "source": [
        "apple_returns.hist()"
      ],
      "metadata": {
        "colab": {
          "base_uri": "https://localhost:8080/",
          "height": 282
        },
        "id": "FYmI6mXcHQJU",
        "outputId": "6633d184-4bc8-4b82-e952-4dd684977753"
      },
      "execution_count": null,
      "outputs": [
        {
          "output_type": "execute_result",
          "data": {
            "text/plain": [
              "<matplotlib.axes._subplots.AxesSubplot at 0x7f57fa6ab220>"
            ]
          },
          "metadata": {},
          "execution_count": 19
        },
        {
          "output_type": "display_data",
          "data": {
            "text/plain": [
              "<Figure size 432x288 with 1 Axes>"
            ],
            "image/png": "[encoded data removed]"
          },
          "metadata": {
            "needs_background": "light"
          }
        }
      ]
    },
    {
      "cell_type": "code",
      "source": [
        "#Calculating skewness and Kurtosis\n",
        "print(\"mean : \", apple_returns.mean())\n",
        "print(\"vol : \", apple_returns.std())\n",
        "print(\"skew : \", apple_returns.skew())\n",
        "print(\"kurt : \", apple_returns.kurtosis())"
      ],
      "metadata": {
        "colab": {
          "base_uri": "https://localhost:8080/"
        },
        "id": "C4nkAMDOHT24",
        "outputId": "fe0efcab-f3bc-402c-e037-8e12c9ebc491"
      },
      "execution_count": null,
      "outputs": [
        {
          "output_type": "stream",
          "name": "stdout",
          "text": [
            "mean :  0.0010238515523800402\n",
            "vol :  0.023265821344830604\n",
            "skew :  0.09503705528910188\n",
            "kurt :  4.0401029502672205\n"
          ]
        }
      ]
    },
    {
      "cell_type": "code",
      "source": [
        "#Alternative measures of risk\n",
        "#Sortino Ratio -- useful for measuring only downside volatility\n",
        "\n",
        "rfr= 0.0395\n",
        "target= rfr\n",
        "\n",
        "#calculate the daily returns from price data\n",
        "apple_returns =pd.DataFrame(apple_price.pct_change())\n",
        "#Select the negative returns only\n",
        "negative_returns = apple_returns.loc[apple_returns['Adj Close']< target]\n",
        "\n",
        "#Calculate expected return and std of downside returns\n",
        "expected_returns =apple_returns['Adj Close'].mean()\n",
        "down_stdv= negative_returns.std()"
      ],
      "metadata": {
        "id": "Gtj9YVMmIenf"
      },
      "execution_count": null,
      "outputs": []
    },
    {
      "cell_type": "code",
      "source": [
        "from yfinance.multi import download\n",
        "#Calculate the sortino Ratio\n",
        "sortino_ratio = (expected_returns - target)/down_stdv\n",
        "print(sortino_ratio)"
      ],
      "metadata": {
        "colab": {
          "base_uri": "https://localhost:8080/"
        },
        "id": "8YTXBCN5StCS",
        "outputId": "8ebd33e3-d441-4266-c94d-39e901ee8fe3"
      },
      "execution_count": null,
      "outputs": [
        {
          "output_type": "stream",
          "name": "stdout",
          "text": [
            "Adj Close   -1.91041\n",
            "dtype: float64\n"
          ]
        }
      ]
    },
    {
      "cell_type": "markdown",
      "source": [
        "#Maximum Daily Draw-down in python"
      ],
      "metadata": {
        "id": "IfBv_baqTZz9"
      }
    },
    {
      "cell_type": "code",
      "source": [
        "#Calculate the maximum value of returns using rolling().max()\n",
        "roll_max = apple_price.rolling(min_periods=1,window=250).max()\n",
        "\n",
        "#calculate daily draw-down from rolling max\n",
        "daily_drawdown= apple_price/roll_max-1.0\n",
        "\n",
        "#Calculate maximum daily draw_down\n",
        "max_daily_drawdown = daily_drawdown.rolling(min_periods=1,window=250).min()\n",
        "\n",
        "#plot the results\n",
        "daily_drawdown.plot()\n",
        "max_daily_drawdown.plot()\n",
        "plt.show()"
      ],
      "metadata": {
        "colab": {
          "base_uri": "https://localhost:8080/",
          "height": 277
        },
        "id": "qpe1W6DHTOXR",
        "outputId": "3272f6f0-63e0-4f9c-ff8d-aa26f35198a8"
      },
      "execution_count": null,
      "outputs": [
        {
          "output_type": "display_data",
          "data": {
            "text/plain": [
              "<Figure size 432x288 with 1 Axes>"
            ],
            "image/png": "[encoded data removed]"
          },
          "metadata": {
            "needs_background": "light"
          }
        }
      ]
    },
    {
      "cell_type": "code",
      "source": [],
      "metadata": {
        "id": "lNXpwnZeUvDC"
      },
      "execution_count": null,
      "outputs": []
    }
  ]
}